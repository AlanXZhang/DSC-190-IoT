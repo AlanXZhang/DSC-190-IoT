{
 "cells": [
  {
   "cell_type": "code",
   "execution_count": 10,
   "id": "f6529cff-d61b-4e29-9b49-b803e32798dc",
   "metadata": {
    "tags": []
   },
   "outputs": [
    {
     "name": "stdout",
     "output_type": "stream",
     "text": [
      "The autoreload extension is already loaded. To reload it, use:\n",
      "  %reload_ext autoreload\n"
     ]
    }
   ],
   "source": [
    "from parser1 import *\n",
    "import random\n",
    "%load_ext autoreload\n",
    "%autoreload 2"
   ]
  },
  {
   "cell_type": "code",
   "execution_count": 12,
   "id": "a57833ff-80bb-428a-9f3a-842edf0f31cc",
   "metadata": {},
   "outputs": [
    {
     "data": {
      "text/plain": [
       "'https://gardenate.com/plants/'"
      ]
     },
     "execution_count": 12,
     "metadata": {},
     "output_type": "execute_result"
    }
   ],
   "source": [
    "nav_soup = parse_page(\"https://gardenate.com/plants/\")\n",
    "base_link = \"https://gardenate.com\"\n",
    "plants = nav_soup.find(\"div\", attrs = {\"id\":\"all-plants\"})\n",
    "htmls = nav_soup.find_all('a')\n",
    "links = []\n",
    "for link in htmls:\n",
    "    # Filter out the sponsored results\n",
    "    address = link.get('href')\n",
    "    if \"plant\" in address:\n",
    "        links.append(base_link + address)\n",
    "links.pop(0) # Remove the first link without a plant\n",
    "links.pop() # Remove the last link without a plant"
   ]
  },
  {
   "cell_type": "code",
   "execution_count": null,
   "id": "c50f006a-eef5-47cf-b9b8-c9b99e150c92",
   "metadata": {},
   "outputs": [],
   "source": [
    "for link in links:\n",
    "    time.sleep(random.randint(2, 5))\n",
    "    page_content = parse_page(link)\n",
    "    page_info = parse_info(page_content)\n",
    "    write_to_csv(page_info)"
   ]
  }
 ],
 "metadata": {
  "kernelspec": {
   "display_name": "Python 3 (ipykernel)",
   "language": "python",
   "name": "python3"
  },
  "language_info": {
   "codemirror_mode": {
    "name": "ipython",
    "version": 3
   },
   "file_extension": ".py",
   "mimetype": "text/x-python",
   "name": "python",
   "nbconvert_exporter": "python",
   "pygments_lexer": "ipython3",
   "version": "3.8.12"
  }
 },
 "nbformat": 4,
 "nbformat_minor": 5
}
