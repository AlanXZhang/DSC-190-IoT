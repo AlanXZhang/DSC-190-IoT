{
 "cells": [
  {
   "cell_type": "code",
   "execution_count": 1,
   "id": "0bcfdf08-8a90-49a3-9156-504682ed1cf1",
   "metadata": {},
   "outputs": [],
   "source": [
    "import requests\n",
    "from bs4 import BeautifulSoup\n",
    "import numpy as np\n",
    "import pandas as pd\n",
    "import re\n",
    "import time\n",
    "import random\n",
    "import csv\n",
    "from datetime import datetime, timedelta, date"
   ]
  },
  {
   "cell_type": "code",
   "execution_count": 2,
   "id": "6b364f06-4dff-48c1-926c-1b93d18712be",
   "metadata": {},
   "outputs": [],
   "source": [
    "listing = requests.get(\"https://gardenate.com/plants/\")\n",
    "content = listing.text\n",
    "soup = BeautifulSoup(content, 'html.parser')\n",
    "base_link = \"https://gardenate.com\""
   ]
  },
  {
   "cell_type": "code",
   "execution_count": 3,
   "id": "1875e0ee-537b-4430-8025-a8d9eb2461da",
   "metadata": {
    "tags": []
   },
   "outputs": [],
   "source": [
    "plants = soup.find(\"div\", attrs = {\"id\":\"all-plants\"})\n",
    "htmls = soup.find_all('a')\n",
    "links = []\n",
    "for link in htmls:\n",
    "    # Filter out the sponsored results\n",
    "    address = link.get('href')\n",
    "    if \"plant\" in address:\n",
    "        links.append(base_link + address)\n",
    "links.pop(0) # Remove the first link without a plant\n",
    "links.pop() # Remove the last link without a plant"
   ]
  }
 ],
 "metadata": {
  "kernelspec": {
   "display_name": "Python 3 (ipykernel)",
   "language": "python",
   "name": "python3"
  },
  "language_info": {
   "codemirror_mode": {
    "name": "ipython",
    "version": 3
   },
   "file_extension": ".py",
   "mimetype": "text/x-python",
   "name": "python",
   "nbconvert_exporter": "python",
   "pygments_lexer": "ipython3",
   "version": "3.8.12"
  }
 },
 "nbformat": 4,
 "nbformat_minor": 5
}
