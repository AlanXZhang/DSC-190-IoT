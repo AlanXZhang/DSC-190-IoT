{
 "cells": [
  {
   "cell_type": "code",
   "execution_count": 1,
   "id": "0bcfdf08-8a90-49a3-9156-504682ed1cf1",
   "metadata": {},
   "outputs": [],
   "source": [
    "import requests\n",
    "from bs4 import BeautifulSoup\n",
    "import numpy as np\n",
    "import pandas as pd\n",
    "import re\n",
    "import time\n",
    "import random\n",
    "import csv\n",
    "from datetime import datetime, timedelta, date"
   ]
  },
  {
   "cell_type": "code",
   "execution_count": 2,
   "id": "6b364f06-4dff-48c1-926c-1b93d18712be",
   "metadata": {},
   "outputs": [],
   "source": [
    "listing = requests.get(\"https://gardenate.com/plants/\")\n",
    "content = listing.text\n",
    "soup = BeautifulSoup(content, 'html.parser')\n",
    "base_link = \"https://gardenate.com\""
   ]
  },
  {
   "cell_type": "code",
   "execution_count": 3,
   "id": "1875e0ee-537b-4430-8025-a8d9eb2461da",
   "metadata": {
    "tags": []
   },
   "outputs": [],
   "source": [
    "plants = soup.find(\"div\", attrs = {\"id\":\"all-plants\"})\n",
    "htmls = soup.find_all('a')\n",
    "links = []\n",
    "for link in htmls:\n",
    "    # Filter out the sponsored results\n",
    "    address = link.get('href')\n",
    "    if \"plant\" in address:\n",
    "        links.append(base_link + address)\n",
    "links.pop(0) # Remove the first link without a plant\n",
    "links.pop() # Remove the last link without a plant"
   ]
  },
  {
   "cell_type": "code",
   "execution_count": 16,
   "id": "65c9d51d-2727-4334-9fa7-0f7c510e56aa",
   "metadata": {},
   "outputs": [],
   "source": [
    "def parse_page(url)\n",
    "    page = requests.get(url)\n",
    "    content = page.text\n",
    "    parsed_content = BeautifulSoup(content, 'html.parser')\n",
    "    return parsed_content"
   ]
  },
  {
   "cell_type": "code",
   "execution_count": 111,
   "id": "aa5fc229-eb31-4533-8681-c88211e2fa95",
   "metadata": {},
   "outputs": [],
   "source": [
    "def parse_info(parsed_content)\n",
    "    calendar = parsed.find(\"div\", {\"id\": \"calendar\"})\n",
    "    info = parsed.find(\"div\", {\"class\": \"info\"})\n",
    "    sowing = info.find(\"li\", {\"class\": \"sowing\"}).text.strip()\n",
    "    spacing = info.find(\"li\", {\"class\": \"spacing\"}).text.strip()\n",
    "    harvest = info.find(\"li\", {\"class\": \"harvest\"}).text.strip()\n",
    "    companion = info.find(\"li\", {\"class\": \"companion\"})\n",
    "    if companion:\n",
    "        companion = companion.text.strip()\n",
    "    avoid = info.find(\"li\", {\"class\": \"avoid\"})\n",
    "    if avoid:\n",
    "        avoid = avoid.text.strip()\n",
    "    details = parsed.find(\"div\", {\"id\": \"details\"}).text.strip()\n",
    "    row = dict()\n",
    "    row[\"scrape_date\"] = datetime.today()\n",
    "    row[\"calendar\"] = calendar\n",
    "    row[\"sowing\"] = sowing\n",
    "    row[\"spacing\"] = spacing\n",
    "    row[\"harvest\"] = harvest\n",
    "    row[\"companion\"] = companion\n",
    "    row[\"avoid\"] = avoid\n",
    "    row[\"details\"] = details\n",
    "    return row"
   ]
  },
  {
   "cell_type": "code",
   "execution_count": 126,
   "id": "681ee1b1-9ffb-4485-b463-268a3ca67277",
   "metadata": {},
   "outputs": [
    {
     "ename": "SyntaxError",
     "evalue": "EOL while scanning string literal (Temp/ipykernel_24740/1787850026.py, line 5)",
     "output_type": "error",
     "traceback": [
      "\u001b[1;36m  File \u001b[1;32m\"C:\\Users\\Alan\\AppData\\Local\\Temp/ipykernel_24740/1787850026.py\"\u001b[1;36m, line \u001b[1;32m5\u001b[0m\n\u001b[1;33m    fieldnames = [\"scrape_date\", \"calendar\", \"]\u001b[0m\n\u001b[1;37m                                               ^\u001b[0m\n\u001b[1;31mSyntaxError\u001b[0m\u001b[1;31m:\u001b[0m EOL while scanning string literal\n"
     ]
    }
   ],
   "source": [
    "def write_to_csv(data, filepath = 'data.csv'):\n",
    "    \"\"\"\n",
    "    Writes to the csv file\n",
    "    \"\"\"\n",
    "    fieldnames = [\"scrape_date\", \"calendar\", \"sowing\", \"spacing\", \"harvest\", \"companion\", \"avoid\", \"details\"]\n",
    "    with open(filepath, mode='a+') as df:\n",
    "        writer = csv.DictWriter(df, fieldnames = fieldnames, extrasaction='ignore', restval = None)\n",
    "        writer.writerow(data)"
   ]
  },
  {
   "cell_type": "code",
   "execution_count": 124,
   "id": "4dcbf1e2-8934-49ec-9f0e-43af4be13bf1",
   "metadata": {},
   "outputs": [],
   "source": [
    "row = dict()\n",
    "row[\"scrape_date\"] = datetime.today()\n",
    "row[\"calendar\"] = calendar\n",
    "row[\"sowing\"] = sowing\n",
    "row[\"spacing\"] = spacing\n",
    "row[\"harvest\"] = harvest\n",
    "row[\"companion\"] = companion\n",
    "row[\"avoid\"] = avoid\n",
    "row[\"details\"] = details"
   ]
  },
  {
   "cell_type": "code",
   "execution_count": 123,
   "id": "94dc874d-8bd3-4b5a-9fc4-157f559571ae",
   "metadata": {},
   "outputs": [
    {
     "name": "stdout",
     "output_type": "stream",
     "text": [
      " Sow in garden. \t\t\t\tSow seed at a depth approximately three times the diameter of the seed.\n",
      "\t\t\t\tBest planted at soil temperatures between 64°F and 86°F.\n",
      "\t\t\t\t (Show °C/cm) \n",
      "\n",
      "['sowing']\n",
      "Space plants:  20  inches apart \t\t\t\n",
      "['spacing']\n",
      "\n",
      "\t\t\t\tHarvest in 7-8 weeks.\n",
      "\t\t\t\n",
      "['harvest']\n",
      "Compatible with (can grow beside): Onions, corn, peppers, egg plant, tomatoes\n",
      "['companion']\n"
     ]
    }
   ],
   "source": [
    "for li in infos:\n",
    "    print(li.text)\n",
    "    print(li.attrs[\"class\"])"
   ]
  },
  {
   "cell_type": "code",
   "execution_count": 100,
   "id": "67ec4ab5-7615-44c1-97d1-66891365d555",
   "metadata": {},
   "outputs": [
    {
     "data": {
      "text/plain": [
       "<re.Match object; span=(14, 17), match=' 20'>"
      ]
     },
     "execution_count": 100,
     "metadata": {},
     "output_type": "execute_result"
    }
   ],
   "source": [
    "calendar = parsed.find(\"div\", {\"id\": \"calendar\"})\n",
    "info = parsed.find(\"div\", {\"class\": \"info\"})\n",
    "sowing = info.find(\"li\", {\"class\": \"sowing\"}).text\n",
    "deg_pattern = \"([\\d]+)°F.+([\\d]+)°F.\"\n",
    "min_soil_temp = int(re.search(deg_pattern, sowing).group(1))\n",
    "max_soil_temp = int(re.search(deg_pattern, sowing).group(2))\n",
    "spacing = info.find(\"li\", {\"class\": \"spacing\"}).text\n",
    "spacing_pattern = \"([\\d]+) - ([\\d]+)\"\n",
    "spacing_pattern2 = \"(\\d)+\"\n",
    "space_interval = False\n",
    "spacing1 = re.search(spacing_pattern, spacing)\n",
    "if spacing1:\n",
    "    space_interval = True\n",
    "    min_space = int(spacing1.group(1))\n",
    "    max_space = int(spacing1.group(2))\n",
    "else:\n",
    "    space_apart = re.search(spacing_pattern2, spacing).groups(1)\n",
    "harvest = info.find(\"li\", {\"class\": \"harvest\"}).text\n",
    "harvest_period = re.search(spacing_pattern, harvest)\n",
    "if harvest_period:\n",
    "    min_harvest = int(harvest_period.group(1))\n",
    "    max_harvest = int(harvest_period.group(2))\n",
    "companion = info.find(\"li\", {\"class\": \"companion\"})\n",
    "avoid = info.find(\"li\", {\"class\": \"avoid\"})\n",
    "if companion:\n",
    "    companion_text = companion.text\n",
    "if avoid:\n",
    "    avoid_text = avoid.text\n"
   ]
  },
  {
   "cell_type": "code",
   "execution_count": 91,
   "id": "7e064c4e-8306-4c5e-9c95-81a06c852960",
   "metadata": {
    "tags": []
   },
   "outputs": [
    {
     "name": "stdout",
     "output_type": "stream",
     "text": [
      "Space plants:  20  inches apart \t\t\t\n"
     ]
    },
    {
     "ename": "AttributeError",
     "evalue": "'NoneType' object has no attribute 'group'",
     "output_type": "error",
     "traceback": [
      "\u001b[1;31m---------------------------------------------------------------------------\u001b[0m",
      "\u001b[1;31mAttributeError\u001b[0m                            Traceback (most recent call last)",
      "\u001b[1;32m~\\AppData\\Local\\Temp/ipykernel_24740/713639845.py\u001b[0m in \u001b[0;36m<module>\u001b[1;34m\u001b[0m\n\u001b[0;32m      1\u001b[0m \u001b[0minfo\u001b[0m \u001b[1;33m=\u001b[0m \u001b[0mparsed\u001b[0m\u001b[1;33m.\u001b[0m\u001b[0mfind\u001b[0m\u001b[1;33m(\u001b[0m\u001b[1;34m\"div\"\u001b[0m\u001b[1;33m,\u001b[0m \u001b[1;33m{\u001b[0m\u001b[1;34m\"class\"\u001b[0m\u001b[1;33m:\u001b[0m \u001b[1;34m\"info\"\u001b[0m\u001b[1;33m}\u001b[0m\u001b[1;33m)\u001b[0m\u001b[1;33m\u001b[0m\u001b[1;33m\u001b[0m\u001b[0m\n\u001b[0;32m      2\u001b[0m \u001b[0mspacing_pattern\u001b[0m \u001b[1;33m=\u001b[0m \u001b[1;34m\"([\\d]+) - ([\\d]+)\"\u001b[0m\u001b[1;33m\u001b[0m\u001b[1;33m\u001b[0m\u001b[0m\n\u001b[1;32m----> 3\u001b[1;33m \u001b[0mfind_interval\u001b[0m\u001b[1;33m(\u001b[0m\u001b[0minfo\u001b[0m\u001b[1;33m,\u001b[0m \u001b[1;34m\"spacing\"\u001b[0m\u001b[1;33m,\u001b[0m \u001b[0mspacing_pattern\u001b[0m\u001b[1;33m)\u001b[0m\u001b[1;33m\u001b[0m\u001b[1;33m\u001b[0m\u001b[0m\n\u001b[0m",
      "\u001b[1;32m~\\AppData\\Local\\Temp/ipykernel_24740/2207471806.py\u001b[0m in \u001b[0;36mfind_interval\u001b[1;34m(text, class_name, pattern)\u001b[0m\n\u001b[0;32m      2\u001b[0m     \u001b[0msearch_area\u001b[0m \u001b[1;33m=\u001b[0m \u001b[0mtext\u001b[0m\u001b[1;33m.\u001b[0m\u001b[0mfind\u001b[0m\u001b[1;33m(\u001b[0m\u001b[1;34m\"li\"\u001b[0m\u001b[1;33m,\u001b[0m \u001b[1;33m{\u001b[0m\u001b[1;34m\"class\"\u001b[0m\u001b[1;33m:\u001b[0m \u001b[0mclass_name\u001b[0m\u001b[1;33m}\u001b[0m\u001b[1;33m)\u001b[0m\u001b[1;33m.\u001b[0m\u001b[0mtext\u001b[0m\u001b[1;33m\u001b[0m\u001b[1;33m\u001b[0m\u001b[0m\n\u001b[0;32m      3\u001b[0m     \u001b[0mprint\u001b[0m\u001b[1;33m(\u001b[0m\u001b[0msearch_area\u001b[0m\u001b[1;33m)\u001b[0m\u001b[1;33m\u001b[0m\u001b[1;33m\u001b[0m\u001b[0m\n\u001b[1;32m----> 4\u001b[1;33m     \u001b[0mmin_val\u001b[0m \u001b[1;33m=\u001b[0m \u001b[0mint\u001b[0m\u001b[1;33m(\u001b[0m\u001b[0mre\u001b[0m\u001b[1;33m.\u001b[0m\u001b[0msearch\u001b[0m\u001b[1;33m(\u001b[0m\u001b[0mpattern\u001b[0m\u001b[1;33m,\u001b[0m \u001b[0msearch_area\u001b[0m\u001b[1;33m)\u001b[0m\u001b[1;33m.\u001b[0m\u001b[0mgroup\u001b[0m\u001b[1;33m(\u001b[0m\u001b[1;36m1\u001b[0m\u001b[1;33m)\u001b[0m\u001b[1;33m)\u001b[0m\u001b[1;33m\u001b[0m\u001b[1;33m\u001b[0m\u001b[0m\n\u001b[0m\u001b[0;32m      5\u001b[0m     \u001b[0mmax_val\u001b[0m \u001b[1;33m=\u001b[0m \u001b[0mint\u001b[0m\u001b[1;33m(\u001b[0m\u001b[0mre\u001b[0m\u001b[1;33m.\u001b[0m\u001b[0msearch\u001b[0m\u001b[1;33m(\u001b[0m\u001b[0mpattern\u001b[0m\u001b[1;33m,\u001b[0m \u001b[0msearch_area\u001b[0m\u001b[1;33m)\u001b[0m\u001b[1;33m.\u001b[0m\u001b[0mgroup\u001b[0m\u001b[1;33m(\u001b[0m\u001b[1;36m2\u001b[0m\u001b[1;33m)\u001b[0m\u001b[1;33m)\u001b[0m\u001b[1;33m\u001b[0m\u001b[1;33m\u001b[0m\u001b[0m\n\u001b[0;32m      6\u001b[0m     \u001b[1;32mreturn\u001b[0m \u001b[1;33m(\u001b[0m\u001b[0mmin_val\u001b[0m\u001b[1;33m,\u001b[0m \u001b[0mmax_val\u001b[0m\u001b[1;33m)\u001b[0m\u001b[1;33m\u001b[0m\u001b[1;33m\u001b[0m\u001b[0m\n",
      "\u001b[1;31mAttributeError\u001b[0m: 'NoneType' object has no attribute 'group'"
     ]
    }
   ],
   "source": [
    "info = parsed.find(\"div\", {\"class\": \"info\"})\n",
    "spacing_pattern = \"([\\d]+) - ([\\d]+)\"\n",
    "find_interval(info, \"spacing\", spacing_pattern)"
   ]
  },
  {
   "cell_type": "code",
   "execution_count": 49,
   "id": "f5fb40fc-5457-4f16-8603-56b0a5103d7e",
   "metadata": {},
   "outputs": [
    {
     "data": {
      "text/plain": [
       "'<div class=\"info\">\\n<ul>\\n<li class=\"sowing\"> Sow in garden. \\t\\t\\t\\tSow seed at a depth approximately three times the diameter of the seed.\\n\\t\\t\\t\\tBest planted at soil temperatures between 64°F and 86°F.\\n\\t\\t\\t\\t<span class=\"scale noprint\"> <a href=\"https://gardenate.com/plant/Amaranth?format=m\">(Show °C/cm)</a> </span>\\n</li>\\n<li class=\"spacing\">Space plants:  20  inches apart \\t\\t\\t</li>\\n<li class=\"harvest\">\\n\\t\\t\\t\\tHarvest in 7-8 weeks.\\n\\t\\t\\t</li> <li class=\"companion\">Compatible with (can grow beside): Onions, corn, peppers, egg plant, tomatoes</li>\\n</ul>\\n</div>'"
      ]
     },
     "execution_count": 49,
     "metadata": {},
     "output_type": "execute_result"
    }
   ],
   "source": [
    "info2"
   ]
  },
  {
   "cell_type": "code",
   "execution_count": null,
   "id": "f927636a-7408-469a-8021-a9a02dc532d8",
   "metadata": {},
   "outputs": [],
   "source": [
    "def scrape_post(post):\n",
    "    row = dict()\n",
    "    row.update(post_info)\n",
    "    description = scrape_desc(post)\n",
    "    row.update(description)\n",
    "    info = scrape_listing_info(post)\n",
    "    row.update(info)\n",
    "    features = scrape_features(post)\n",
    "    row.update(features)\n",
    "    row['scrape_date'] = datetime.today()\n",
    "    return row\n",
    "\n",
    "def write_to_csv(post, filepath = 'craigslist.csv'):\n",
    "    \"\"\"\n",
    "    Writes to the csv file\n",
    "    \"\"\"\n",
    "    with open(filepath, mode='a+') as df:\n",
    "        writer = csv.DictWriter(df, fieldnames = fieldnames, extrasaction='ignore', restval = None)\n",
    "        parsed_data = scrape_post(post)\n",
    "        if parsed_data is not None:\n",
    "            writer.writerow(parsed_data)"
   ]
  }
 ],
 "metadata": {
  "kernelspec": {
   "display_name": "Python 3 (ipykernel)",
   "language": "python",
   "name": "python3"
  },
  "language_info": {
   "codemirror_mode": {
    "name": "ipython",
    "version": 3
   },
   "file_extension": ".py",
   "mimetype": "text/x-python",
   "name": "python",
   "nbconvert_exporter": "python",
   "pygments_lexer": "ipython3",
   "version": "3.8.12"
  }
 },
 "nbformat": 4,
 "nbformat_minor": 5
}
